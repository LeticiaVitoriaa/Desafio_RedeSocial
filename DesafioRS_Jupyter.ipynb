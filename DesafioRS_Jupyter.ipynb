{
 "cells": [
  {
   "cell_type": "code",
   "execution_count": 339,
   "source": [
    "pessoas = [\"Alice\", \"Bob\", \"Carol\", \"Danielle\"]\r\n",
    "for i,pessoas in enumerate(pessoas):\r\n",
    "    print(str(i)+\":\" + pessoas)"
   ],
   "outputs": [
    {
     "output_type": "stream",
     "name": "stdout",
     "text": [
      "0:Alice\n",
      "1:Bob\n",
      "2:Carol\n",
      "3:Danielle\n"
     ]
    }
   ],
   "metadata": {}
  },
  {
   "cell_type": "code",
   "execution_count": 338,
   "source": [
    "\r\n",
    "amizades = [[0,0,0,1],[1,0,1,1],[0,0,0,1],[1,1,0,0]]\r\n",
    "for i in range(0, 4):\r\n",
    "    for j in range(0, 4):\r\n",
    "        amizades[i][j]\r\n",
    "        print(f'[{amizades[i][j]}]', end= ' ')\r\n",
    "    print()\r\n"
   ],
   "outputs": [
    {
     "output_type": "stream",
     "name": "stdout",
     "text": [
      "[0] [0] [0] [1] \n",
      "[1] [0] [1] [1] \n",
      "[0] [0] [0] [1] \n",
      "[1] [1] [0] [0] \n"
     ]
    }
   ],
   "metadata": {}
  },
  {
   "cell_type": "code",
   "execution_count": 340,
   "source": [
    "def exibe_amigos(pessoas, amizades, nomePessoa):\r\n",
    "    listaAmi = []\r\n",
    "    for i in range(len(pessoas)):\r\n",
    "        if pessoas[i] in nomePessoa:\r\n",
    "            print(nomePessoa)\r\n",
    "        for j in range(0, 4):\r\n",
    "                if amizades[i][j] == 1 and pessoas[j] == 1:\r\n",
    "                    for pessoa in pessoas:\r\n",
    "                        pes = pessoa\r\n",
    "                        pes = pessoa\r\n",
    "                        listaAmi += [pes]\r\n",
    "                    \r\n",
    "                    print(\"Lista amigos de \" + nomePessoa + \": \")\r\n",
    "                    return print(listaAmi)\r\n",
    "        else:\r\n",
    "                print(\"Não tem amigos!\")\r\n",
    "    else: \r\n",
    "        return print(\"Nome não encontrado!\")\r\n",
    "    \r\n",
    "tentativa = exibe_amigos(pessoas = [\"Alice\", \"Bob\", \"Carol\", \"Danielle\"],\r\n",
    "    amizades = [[0,0,0,1],[1,0,1,1],[0,0,0,1],[1,1,0,0]], nomePessoa=\"Bob\")"
   ],
   "outputs": [
    {
     "output_type": "stream",
     "name": "stdout",
     "text": [
      "Não tem amigos!\n",
      "Bob\n",
      "Não tem amigos!\n",
      "Não tem amigos!\n",
      "Não tem amigos!\n",
      "Nome não encontrado!\n"
     ]
    }
   ],
   "metadata": {}
  },
  {
   "cell_type": "code",
   "execution_count": 341,
   "source": [
    "def exibe_amigos_comum(pessoas, nomePessoaX, nomePessoaY):\r\n",
    "    amizades = [[0,0,0,1],[1,0,1,1],[0,0,0,1],[1,1,0,0]]\r\n",
    "    tam = len(pessoas)\r\n",
    "    for i in range(tam):\r\n",
    "        if pessoas[i] in nomePessoaX:\r\n",
    "            for j in range(tam): \r\n",
    "                if pessoas[j] in nomePessoaY:\r\n",
    "                    for m in range(0, 4):\r\n",
    "                        if amizades[i][m] == 1 and amizades [j][m] == 1:\r\n",
    "                            listamigos = pessoas\r\n",
    "                            print(\"Amigos em comum entre \" + nomePessoaX + \" e \" + nomePessoaY + \": \")\r\n",
    "                            return print(\"- \" + listamigos[m])\r\n",
    "            else: \r\n",
    "                return print(\"Não tem amigos em comum.\")\r\n",
    "    else: \r\n",
    "        print(\"Nome Inválido.\")\r\n",
    "\r\n",
    "tent = exibe_amigos_comum(pessoas= [\"Alice\", \"Bob\", \"Carol\", \"Danielle\"], nomePessoaX= \"Carol\", nomePessoaY= \"Danielle\")"
   ],
   "outputs": [
    {
     "output_type": "stream",
     "name": "stdout",
     "text": [
      "Não tem amigos em comum.\n"
     ]
    }
   ],
   "metadata": {}
  },
  {
   "cell_type": "markdown",
   "source": [
    "# Função entre_Amigos\r\n",
    "\r\n",
    "A função entre_Amigos, verifica se duas pessoas são amigas entre si, amizade recíproca. A função é importante para saber se o amigo é considerado amigo de verdade do outro, assim a rede social percebe a afinidade nos laços de amizade e registra nos dados, os com mais precisão relacionamentos. \r\n",
    "\r\n",
    "## Características da função\r\n",
    "* Parâmetro: Recebe nome de duas pessoas;\r\n",
    "* Retorna: O nome das pessoas e mensagens de confirmação de amizade. "
   ],
   "metadata": {}
  },
  {
   "cell_type": "code",
   "execution_count": 1,
   "source": [
    "def entre_Amigos(nomePessoaA, nomePessoaB):\r\n",
    "    pessoas= [\"Alice\", \"Bob\", \"Carol\", \"Danielle\"]\r\n",
    "    tam = len(pessoas)\r\n",
    "    amizades = [[0,0,0,1],[1,0,1,1],[0,0,0,1],[1,1,0,0]]\r\n",
    "    tamMat = len(amizades)\r\n",
    "\r\n",
    "    for i in range(tam):\r\n",
    "        for j in range(tam):\r\n",
    "            if pessoas[i] in nomePessoaA and pessoas[j] in nomePessoaB:\r\n",
    "                for linha in range(tamMat):\r\n",
    "                    for coluna in range(len(amizades)):\r\n",
    "                        if amizades[i][coluna] == 1 and amizades [j][i] == 1:\r\n",
    "                            return print(\"São amigos entre si: \" + nomePessoaA + \" e \" + nomePessoaB)\r\n",
    "                else: \r\n",
    "                    return print(\"Não são amigos entre si.\")\r\n",
    "    else: \r\n",
    "        print(\"Nome Inválido.\")\r\n",
    "\r\n",
    "test = entre_Amigos( nomePessoaA= \"Alice\", nomePessoaB= \"Danielle\")"
   ],
   "outputs": [
    {
     "output_type": "stream",
     "name": "stdout",
     "text": [
      "São amigos entre si: Alice e Danielle\n"
     ]
    }
   ],
   "metadata": {}
  }
 ],
 "metadata": {
  "interpreter": {
   "hash": "d7023f41cdfa12a275f26bfad9f852cd07cded3f9c9f99456b5f4e87230020ce"
  },
  "kernelspec": {
   "name": "python3",
   "display_name": "Python 3.9.6 64-bit"
  },
  "language_info": {
   "codemirror_mode": {
    "name": "ipython",
    "version": 3
   },
   "file_extension": ".py",
   "mimetype": "text/x-python",
   "name": "python",
   "nbconvert_exporter": "python",
   "pygments_lexer": "ipython3",
   "version": "3.9.6"
  }
 },
 "nbformat": 4,
 "nbformat_minor": 2
}