{
    "cells": [
        {
            "cell_type": "code",
            "execution_count": 262,
            "source": [
                "\r\n",
                "amizades = [[0,0,0,1],[1,1,1,1],[0,1,0,1],[1,1,0,0]]\r\n",
                "for i in range(0, 4):\r\n",
                "    for j in range(0, 4):\r\n",
                "        amizades[i][j]\r\n",
                "        print(f'[{amizades[i][j]}]', end= ' ')\r\n",
                "    print()\r\n"
            ],
            "outputs": [
                {
                    "output_type": "stream",
                    "name": "stdout",
                    "text": [
                        "[0] [0] [0] [1] \n",
                        "[1] [1] [1] [1] \n",
                        "[0] [1] [0] [1] \n",
                        "[1] [1] [0] [0] \n"
                    ]
                }
            ],
            "metadata": {}
        },
        {
            "cell_type": "code",
            "execution_count": 183,
            "source": [
                "pessoas = [\"Alice\", \"Bob\", \"Carol\", \"Danielle\"]\r\n",
                "for i,pessoas in enumerate(pessoas):\r\n",
                "    print(str(i)+\":\" + pessoas)"
            ],
            "outputs": [
                {
                    "output_type": "stream",
                    "name": "stdout",
                    "text": [
                        "0:Alice\n",
                        "1:Bob\n",
                        "2:Carol\n",
                        "3:Danielle\n"
                    ]
                }
            ],
            "metadata": {}
        },
        {
            "cell_type": "code",
            "execution_count": 279,
            "source": [
                "def exibe_amigos(pessoas, amizades, nomePessoa):\r\n",
                "    tam = len(pessoas)\r\n",
                "    for i in range(tam):\r\n",
                "        if pessoas[i] in nomePessoa:\r\n",
                "            print(nomePessoa)\r\n",
                "        for j in range(0, 4):\r\n",
                "                if amizades[i][j] == 1:\r\n",
                "                    print(\"Lista amigos de \" + nomePessoa + \": \")\r\n",
                "                    listaAmi = []\r\n",
                "                    listaAmi += [pessoas[i][j], pessoas[i][j],]\r\n",
                "                    return print(listaAmi)\r\n",
                "        else:\r\n",
                "                print(\"Não tem amigos!\")\r\n",
                "    else: \r\n",
                "        return print(\"Nome não encontrado!\")\r\n",
                "    \r\n",
                "tentativa = exibe_amigos(pessoas = [\"Alice\", \"Bob\", \"Carol\", \"Danielle\"], \r\n",
                "                         amizades = [[0,0,0,1],[1,0,1,1],[0,0,0,1],[1,1,0,0]], nomePessoa=\"Bob\")"
            ],
            "outputs": [
                {
                    "output_type": "stream",
                    "name": "stdout",
                    "text": [
                        "Lista amigos de Bob: \n",
                        "['c', 'c']\n"
                    ]
                }
            ],
            "metadata": {}
        },
        {
            "cell_type": "code",
            "execution_count": 267,
            "source": [
                "def exibe_amigos_comum(pessoas, nomePessoaX, nomePessoaY):\r\n",
                "    tam = len(pessoas)\r\n",
                "    for i in range(tam):\r\n",
                "        if pessoas[i] in nomePessoaX:\r\n",
                "            for j in range(tam): \r\n",
                "                if pessoas[j] in nomePessoaY:\r\n",
                "                    print(nomePessoaX, \"-\", nomePessoaY)\r\n",
                "                for m in range(0, 4):\r\n",
                "                    if amizades[i][m] == 1 and amizades [j][m] == 1:\r\n",
                "                        print(\"Amigos em comum entre \" + nomePessoaX + \" e \" + nomePessoaY +\r\n",
                "                        \": \" )\r\n",
                "                        return print (pessoas[m])\r\n",
                "            else: \r\n",
                "                print(\"Não tem amigos em comum.\")\r\n",
                "    else: \r\n",
                "            return print(\"Nome inválido\")\r\n",
                "\r\n",
                "tent = exibe_amigos_comum(pessoas= [\"Alice\", \"Bob\", \"Carol\", \"Danielle\"], nomePessoaX= \"Alice\", nomePessoaY= \"Danielle\")"
            ],
            "outputs": [
                {
                    "output_type": "stream",
                    "name": "stdout",
                    "text": [
                        "Amigos em comum entre Alice e Danielle: \n",
                        "Danielle\n"
                    ]
                }
            ],
            "metadata": {}
        }
    ],
    "metadata": {
        "orig_nbformat": 4,
        "language_info": {
            "name": "python",
            "version": "3.9.6",
            "mimetype": "text/x-python",
            "codemirror_mode": {
                "name": "ipython",
                "version": 3
            },
            "pygments_lexer": "ipython3",
            "nbconvert_exporter": "python",
            "file_extension": ".py"
        },
        "kernelspec": {
            "name": "python3",
            "display_name": "Python 3.9.6 64-bit"
        },
        "interpreter": {
            "hash": "d7023f41cdfa12a275f26bfad9f852cd07cded3f9c9f99456b5f4e87230020ce"
        }
    },
    "nbformat": 4,
    "nbformat_minor": 2
}