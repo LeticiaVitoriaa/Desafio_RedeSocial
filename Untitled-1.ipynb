{
 "cells": [
  {
   "cell_type": "code",
   "execution_count": 93,
   "source": [
    "\r\n",
    "amizades = [[0,0,0,1],[1,0,1,1],[0,0,0,1],[1,1,0,0]]\r\n",
    "for i in range(0, 4):\r\n",
    "    for j in range(0, 4):\r\n",
    "        amizades[i][j]\r\n",
    "        print(f'[{amizades[i][j]}]', end= ' ')\r\n",
    "    print()\r\n"
   ],
   "outputs": [
    {
     "output_type": "stream",
     "name": "stdout",
     "text": [
      "[0] [0] [0] [1] \n",
      "[1] [0] [1] [1] \n",
      "[0] [0] [0] [1] \n",
      "[1] [1] [0] [0] \n"
     ]
    }
   ],
   "metadata": {}
  },
  {
   "cell_type": "code",
   "execution_count": 94,
   "source": [
    "pessoas = [\"Alice\", \"Bob\", \"Carol\", \"Danielle\"]\n",
    "for i,pessoas in enumerate(pessoas):\n",
    "    print(str(i)+\":\" + pessoas)"
   ],
   "outputs": [
    {
     "output_type": "stream",
     "name": "stdout",
     "text": [
      "0:Alice\n",
      "1:Bob\n",
      "2:Carol\n",
      "3:Danielle\n"
     ]
    }
   ],
   "metadata": {}
  },
  {
   "cell_type": "code",
   "execution_count": 149,
   "source": [
    "def exibe_amigos(pessoas, amizades, nomePessoa):\r\n",
    "    tam = len(pessoas)\r\n",
    "    listaAmigo = [0, 0]\r\n",
    "    for i in range(tam):\r\n",
    "        if pessoas[i] in nomePessoa:\r\n",
    "            for j in range(0, 4):\r\n",
    "                if amizades[i][j] == 1:\r\n",
    "                    listaAmigo[j] = pessoas[j]\r\n",
    "                    tam_lista = len(listaAmigo)\r\n",
    "                    print(\"Lista amigos de \" + nomePessoa + \": \")\r\n",
    "                    for n in range(tam_lista):\r\n",
    "                        return print(str(j)+\": \" + listaAmigo[n])\r\n",
    "            else:\r\n",
    "                return print(\"Não tem amigos!\")\r\n",
    "    else: \r\n",
    "        print(\"Nome não encontrado!\")\r\n",
    "    \r\n",
    "tentativa = exibe_amigos(pessoas = [\"Alice\", \"Bob\", \"Carol\", \"Danielle\"],\r\n",
    "    amizades = [[0,0,0,1],[1,0,1,1],[0,0,0,1],[1,1,0,0]], nomePessoa=\"Bob\")"
   ],
   "outputs": [
    {
     "output_type": "stream",
     "name": "stdout",
     "text": [
      "Lista amigos de Bob: \n",
      "0: Alice\n"
     ]
    }
   ],
   "metadata": {}
  },
  {
   "cell_type": "code",
   "execution_count": 107,
   "source": [
    "def exibe_amigos_comum(pessoas, nomePessoaX, nomePessoaY):\r\n",
    "    amizades = [[0,0,0,1],[1,0,1,1],[0,0,0,1],[1,1,0,0]]\r\n",
    "    tam = len(pessoas)\r\n",
    "    for i in range(tam):\r\n",
    "        if pessoas[i] in nomePessoaX:\r\n",
    "            for j in range(tam): \r\n",
    "                if pessoas[j] in nomePessoaY:\r\n",
    "                    for m in range(0, 4):\r\n",
    "                        if amizades[i][m] == 1 and amizades [j][m] == 1:\r\n",
    "                            listamigos = pessoas\r\n",
    "                            print(\"Amigos em comum entre \" + nomePessoaX + \" e \" + nomePessoaY + \": \")\r\n",
    "                            return print(\"- \" + listamigos[m])\r\n",
    "            else: \r\n",
    "                return print(\"Não tem amigos em comum.\")\r\n",
    "    else: \r\n",
    "        print(\"Nome Inválido.\")\r\n",
    "\r\n",
    "tent = exibe_amigos_comum(pessoas= [\"Alice\", \"Bob\", \"Carol\", \"Danielle\"], nomePessoaX= \"Carol\", nomePessoaY= \"Danielle\")"
   ],
   "outputs": [
    {
     "output_type": "stream",
     "name": "stdout",
     "text": [
      "Não tem amigos em comum.\n"
     ]
    }
   ],
   "metadata": {}
  }
 ],
 "metadata": {
  "interpreter": {
   "hash": "d7023f41cdfa12a275f26bfad9f852cd07cded3f9c9f99456b5f4e87230020ce"
  },
  "kernelspec": {
   "display_name": "Python 3 (ipykernel)",
   "language": "python",
   "name": "python3"
  },
  "language_info": {
   "codemirror_mode": {
    "name": "ipython",
    "version": 3
   },
   "file_extension": ".py",
   "mimetype": "text/x-python",
   "name": "python",
   "nbconvert_exporter": "python",
   "pygments_lexer": "ipython3",
   "version": "3.9.6"
  }
 },
 "nbformat": 4,
 "nbformat_minor": 2
}