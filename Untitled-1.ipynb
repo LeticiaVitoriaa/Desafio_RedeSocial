{
 "cells": [
  {
   "cell_type": "code",
   "execution_count": 93,
   "source": [
    "\r\n",
    "amizades = [[0,0,0,1],[1,0,1,1],[0,0,0,1],[1,1,0,0]]\r\n",
    "for i in range(0, 4):\r\n",
    "    for j in range(0, 4):\r\n",
    "        amizades[i][j]\r\n",
    "        print(f'[{amizades[i][j]}]', end= ' ')\r\n",
    "    print()\r\n"
   ],
   "outputs": [
    {
     "output_type": "stream",
     "name": "stdout",
     "text": [
      "[0] [0] [0] [1] \n",
      "[1] [0] [1] [1] \n",
      "[0] [0] [0] [1] \n",
      "[1] [1] [0] [0] \n"
     ]
    }
   ],
   "metadata": {}
  },
  {
   "cell_type": "code",
   "execution_count": 94,
   "source": [
    "pessoas = [\"Alice\", \"Bob\", \"Carol\", \"Danielle\"]\n",
    "for i,pessoas in enumerate(pessoas):\n",
    "    print(str(i)+\":\" + pessoas)"
   ],
   "outputs": [
    {
     "output_type": "stream",
     "name": "stdout",
     "text": [
      "0:Alice\n",
      "1:Bob\n",
      "2:Carol\n",
      "3:Danielle\n"
     ]
    }
   ],
   "metadata": {}
  },
  {
   "cell_type": "code",
   "execution_count": 95,
   "source": [
    "def exibe_amigos(pessoas, amizades, nomePessoa):\n",
    "    tam = len(pessoas)\n",
    "    for i in range(tam):\n",
    "        if pessoas[i] in nomePessoa:\n",
    "            print(nomePessoa)\n",
    "        for j in range(0, 4):\n",
    "                if amizades[i][j] == 1:\n",
    "                    print(\"Lista amigos de \" + nomePessoa + \": \")\n",
    "                    listaAmi = []\n",
    "                    listaAmi += [pessoas[i][j], pessoas[i][j],]\n",
    "                    return print(listaAmi)\n",
    "        else:\n",
    "                print(\"Não tem amigos!\")\n",
    "    else: \n",
    "        return print(\"Nome não encontrado!\")\n",
    "    \n",
    "tentativa = exibe_amigos(pessoas = [\"Alice\", \"Bob\", \"Carol\", \"Danielle\"], \n",
    "                         amizades = [[0,0,0,1],[1,0,1,1],[0,0,0,1],[1,1,0,0]], nomePessoa=\"Bob\")"
   ],
   "outputs": [
    {
     "output_type": "stream",
     "name": "stdout",
     "text": [
      "Lista amigos de Bob: \n",
      "['c', 'c']\n"
     ]
    }
   ],
   "metadata": {}
  },
  {
   "cell_type": "code",
   "execution_count": 102,
   "source": [
    "def exibe_amigos_comum(pessoas, nomePessoaX, nomePessoaY):\r\n",
    "    amizades = [[0,0,0,1],[1,0,1,1],[0,0,0,1],[1,1,0,0]]\r\n",
    "    tam = len(pessoas)\r\n",
    "    for i in range(tam):\r\n",
    "        if pessoas[i] in nomePessoaX:\r\n",
    "            for j in range(tam): \r\n",
    "                if pessoas[j] in nomePessoaY:\r\n",
    "                    for m in range(0, 4):\r\n",
    "                        if amizades[i][m] == 1 and amizades [j][m] == 1:\r\n",
    "                            listamigos = pessoas\r\n",
    "                            print(\"Amigos em comum entre \" + nomePessoaX + \" e \" + nomePessoaY + \": \")\r\n",
    "                            return print(\"- \" + listamigos[m])\r\n",
    "            else: \r\n",
    "                print(\"Não tem amigos em comum.\")\r\n",
    "    else: \r\n",
    "        return print(\"---\")\r\n",
    "\r\n",
    "tent = exibe_amigos_comum(pessoas= [\"Alice\", \"Bob\", \"Carol\", \"Danielle\"], nomePessoaX= \"Carol\", nomePessoaY= \"Bob\")"
   ],
   "outputs": [
    {
     "output_type": "stream",
     "name": "stdout",
     "text": [
      "Amigos em comum entre Carol e Bob: \n",
      "- Danielle\n"
     ]
    }
   ],
   "metadata": {}
  }
 ],
 "metadata": {
  "interpreter": {
   "hash": "d7023f41cdfa12a275f26bfad9f852cd07cded3f9c9f99456b5f4e87230020ce"
  },
  "kernelspec": {
   "display_name": "Python 3 (ipykernel)",
   "language": "python",
   "name": "python3"
  },
  "language_info": {
   "codemirror_mode": {
    "name": "ipython",
    "version": 3
   },
   "file_extension": ".py",
   "mimetype": "text/x-python",
   "name": "python",
   "nbconvert_exporter": "python",
   "pygments_lexer": "ipython3",
   "version": "3.9.6"
  }
 },
 "nbformat": 4,
 "nbformat_minor": 2
}